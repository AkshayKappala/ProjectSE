{
 "cells": [
  {
   "cell_type": "code",
   "id": "initial_id",
   "metadata": {
    "collapsed": true
   },
   "source": [
    "import numpy\n",
    "import cv2\n",
    "\n",
    "img = cv2.imread('data/images/spac2.jpg', cv2.IMREAD_UNCHANGED)\n",
    "print(img.shape)\n",
    "\n",
    "height, width, channels = img.shape\n",
    "# for i in range(height):\n",
    "#     for j in range(width):\n",
    "#         print(img[i][j])\n",
    "count = 0\n",
    "for i in range(min(height, width)):\n",
    "    pixel_value = img[i, i]\n",
    "    print(f\"Pixel at ({i}, {i}): {pixel_value}\")\n",
    "    count += 1\n",
    "print(count)"
   ],
   "outputs": [],
   "execution_count": null
  },
  {
   "metadata": {},
   "cell_type": "code",
   "source": [
    "from Crypto.Protocol.KDF import PBKDF2\n",
    "from Crypto.Cipher import AES\n",
    "from Crypto import Random\n",
    "import base64\n",
    "\n",
    "# Key derivation parameters\n",
    "password = b'your_secret_password'\n",
    "salt = Random.new().read(16)\n",
    "key = PBKDF2(password, salt, dkLen=32)\n",
    "\n",
    "# Initialization Vector (IV)\n",
    "iv = Random.new().read(AES.block_size)\n",
    "\n",
    "# AES encryption function\n",
    "def encrypt_message(message, key, iv):\n",
    "    cipher = AES.new(key, AES.MODE_CBC, iv)\n",
    "    # Make sure the message length is a multiple of AES block size\n",
    "    padded_message = message + (AES.block_size - len(message) % AES.block_size) * b' '\n",
    "    ciphertext = cipher.encrypt(padded_message)\n",
    "    return base64.b64encode(iv + ciphertext)\n",
    "\n",
    "# AES decryption function\n",
    "def decrypt_message(ciphertext, key):\n",
    "    ciphertext = base64.b64decode(ciphertext)\n",
    "    iv = ciphertext[:AES.block_size]\n",
    "    cipher = AES.new(key, AES.MODE_CBC, iv)\n",
    "    decrypted_message = cipher.decrypt(ciphertext[AES.block_size:]).rstrip(b' ')\n",
    "    return decrypted_message\n",
    "\n",
    "for i in range(0,256):    \n",
    "    # Number to encrypt\n",
    "    number_to_encrypt = i\n",
    "    number_str = str(number_to_encrypt)\n",
    "    \n",
    "    # Encrypt the number\n",
    "    encrypted_data = encrypt_message(number_str.encode(), key, iv)\n",
    "    \n",
    "    # Decrypt the data\n",
    "    decrypted_data = decrypt_message(encrypted_data, key)\n",
    "    \n",
    "    # Convert decrypted data back to the original number\n",
    "    original_number = int(decrypted_data.decode())\n",
    "    \n",
    "    print(\"Original Number:\", number_to_encrypt)\n",
    "    print(\"Encrypted Data:\", encrypted_data.decode())\n",
    "    print(\"Decrypted Number:\", original_number)\n",
    "    print()\n"
   ],
   "id": "d81370f2632976c",
   "outputs": [],
   "execution_count": null
  },
  {
   "metadata": {},
   "cell_type": "code",
   "source": "",
   "id": "a31b2b4d46143abe",
   "outputs": [],
   "execution_count": null
  }
 ],
 "metadata": {
  "kernelspec": {
   "display_name": "Python 3",
   "language": "python",
   "name": "python3"
  },
  "language_info": {
   "codemirror_mode": {
    "name": "ipython",
    "version": 2
   },
   "file_extension": ".py",
   "mimetype": "text/x-python",
   "name": "python",
   "nbconvert_exporter": "python",
   "pygments_lexer": "ipython2",
   "version": "2.7.6"
  }
 },
 "nbformat": 4,
 "nbformat_minor": 5
}
