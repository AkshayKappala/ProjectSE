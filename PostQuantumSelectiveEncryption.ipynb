{
 "cells": [
  {
   "cell_type": "markdown",
   "id": "e246bed5",
   "metadata": {},
   "source": [
    "<h1>Example post quantum secure communication between ALice and Bob</h1>"
   ]
  },
  {
   "cell_type": "markdown",
   "id": "c4a6626a",
   "metadata": {},
   "source": [
    "1. Required prior knowledge of the buffer size used, for all the parties."
   ]
  },
  {
   "cell_type": "code",
   "execution_count": 22,
   "id": "0e0b1137",
   "metadata": {},
   "outputs": [],
   "source": [
    "buffer_size = 12008 # y of (y X y)\n",
    "sha_key_str = 'Tuesday Evening'"
   ]
  },
  {
   "cell_type": "markdown",
   "id": "ce2ceec2",
   "metadata": {},
   "source": [
    "2. QuantCrypt provides Kyber1024 key encapsulation mechanism."
   ]
  },
  {
   "cell_type": "code",
   "execution_count": 23,
   "id": "27ce6655",
   "metadata": {},
   "outputs": [],
   "source": [
    "from quantcrypt.kem import Kyber\n",
    "\n",
    "kem = Kyber()"
   ]
  },
  {
   "cell_type": "markdown",
   "id": "e684efd2",
   "metadata": {},
   "source": [
    "3. Alice generates key pair."
   ]
  },
  {
   "cell_type": "code",
   "execution_count": 24,
   "id": "014e1cab",
   "metadata": {},
   "outputs": [],
   "source": [
    "public_key, secret_key = kem.keygen()"
   ]
  },
  {
   "cell_type": "markdown",
   "id": "d6957c40",
   "metadata": {},
   "source": [
    "4. Bob generates cipher and shared secret using Alice's public key."
   ]
  },
  {
   "cell_type": "code",
   "execution_count": 25,
   "id": "def3143a",
   "metadata": {},
   "outputs": [],
   "source": [
    "cipher_text, shared_secret = kem.encaps(public_key)\n"
   ]
  },
  {
   "cell_type": "markdown",
   "id": "04387dfd",
   "metadata": {},
   "source": [
    "5. Alice decrypts cipher she receives from Bob to extract shared secret."
   ]
  },
  {
   "cell_type": "code",
   "execution_count": 26,
   "id": "41753363",
   "metadata": {},
   "outputs": [],
   "source": [
    "\n",
    "shared_secret_copy = kem.decaps(secret_key, cipher_text)"
   ]
  },
  {
   "cell_type": "markdown",
   "id": "3f6c7162",
   "metadata": {},
   "source": [
    "\n",
    "6. Bob encrypts the message to be sent using the shared_secret."
   ]
  },
  {
   "cell_type": "code",
   "execution_count": 27,
   "id": "75404051",
   "metadata": {},
   "outputs": [
    {
     "name": "stdout",
     "output_type": "stream",
     "text": [
      "buffer: $12008\n",
      "dwt2d took 0.691320 seconds\n",
      "dwt2d took 0.150821 seconds\n",
      "sha256_with_key took 0.003735 seconds\n",
      "sha512_with_key took 0.018634 seconds\n",
      "xor_with_sha_key took 0.028843 seconds\n",
      "xor_with_sha_key took 0.118697 seconds\n",
      "aes_encrypt took 0.037067 seconds\n",
      "_se_encrypt took 1.216899 seconds\n",
      "encrypt took 1.279745 seconds\n"
     ]
    }
   ],
   "source": [
    "from selective_encryption import encrypt\n",
    "from utils import time_it\n",
    "\n",
    "encrypt(file_path='data/files/landscape.png',\n",
    "           sha_key_str=sha_key_str, \n",
    "           buffer=buffer_size,\n",
    "           aes_key=shared_secret)"
   ]
  },
  {
   "cell_type": "markdown",
   "id": "a800d9aa",
   "metadata": {},
   "source": [
    "7. Alice decrypts the message using shared_secret_copy."
   ]
  },
  {
   "cell_type": "code",
   "execution_count": 28,
   "id": "c16e3927",
   "metadata": {},
   "outputs": [
    {
     "name": "stdout",
     "output_type": "stream",
     "text": [
      "aes_decrypt took 0.027673 seconds\n",
      "sha256_with_key took 0.003390 seconds\n",
      "xor_with_sha_key took 0.025432 seconds\n",
      "sha512_with_key took 0.016404 seconds\n",
      "xor_with_sha_key took 0.103245 seconds\n",
      "idwt2d took 0.118066 seconds\n",
      "idwt2d took 0.874868 seconds\n",
      "decrypt took 75.158870 seconds\n"
     ]
    }
   ],
   "source": [
    "from selective_encryption import decrypt\n",
    "\n",
    "decrypt(file_PF= 'data/files/enc/landscape.png_PF.npy',\n",
    "           file_PPF_1= 'data/files/enc/landscape.png_PPF_1.npy',\n",
    "           file_PPF_2= 'data/files/enc/landscape.png_PPF_2.npy',\n",
    "           buffer=buffer_size,\n",
    "           output_file_path='data/files/dec/landscape.png',\n",
    "           sha_key_str=sha_key_str, \n",
    "           aes_key=shared_secret_copy)"
   ]
  }
 ],
 "metadata": {
  "kernelspec": {
   "display_name": "Python 3",
   "language": "python",
   "name": "python3"
  },
  "language_info": {
   "codemirror_mode": {
    "name": "ipython",
    "version": 3
   },
   "file_extension": ".py",
   "mimetype": "text/x-python",
   "name": "python",
   "nbconvert_exporter": "python",
   "pygments_lexer": "ipython3",
   "version": "3.12.5"
  }
 },
 "nbformat": 4,
 "nbformat_minor": 5
}
