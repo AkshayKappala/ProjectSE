{
 "cells": [
  {
   "cell_type": "markdown",
   "id": "e246bed5",
   "metadata": {},
   "source": [
    "<h1>Example post quantum secure communication between ALice and Bob</h1>"
   ]
  },
  {
   "cell_type": "markdown",
   "id": "c4a6626a",
   "metadata": {},
   "source": [
    "1. Required prior knowledge of the buffer size used, for all the parties."
   ]
  },
  {
   "cell_type": "code",
   "execution_count": 41,
   "id": "0e0b1137",
   "metadata": {},
   "outputs": [],
   "source": [
    "buffer_size = 3200 # y of (y X y)\n",
    "sha_key_str = 'Tuesday Evening'"
   ]
  },
  {
   "cell_type": "markdown",
   "id": "ce2ceec2",
   "metadata": {},
   "source": [
    "2. QuantCrypt provides Kyber1024 key encapsulation mechanism."
   ]
  },
  {
   "cell_type": "code",
   "execution_count": 42,
   "id": "27ce6655",
   "metadata": {},
   "outputs": [],
   "source": [
    "from quantcrypt.kem import Kyber\n",
    "\n",
    "kem = Kyber()"
   ]
  },
  {
   "cell_type": "markdown",
   "id": "e684efd2",
   "metadata": {},
   "source": [
    "3. Alice generates key pair."
   ]
  },
  {
   "cell_type": "code",
   "execution_count": 43,
   "id": "014e1cab",
   "metadata": {},
   "outputs": [],
   "source": [
    "public_key, secret_key = kem.keygen()"
   ]
  },
  {
   "cell_type": "markdown",
   "id": "d6957c40",
   "metadata": {},
   "source": [
    "4. Bob generates cipher and shared secret using Alice's public key."
   ]
  },
  {
   "cell_type": "code",
   "execution_count": 44,
   "id": "def3143a",
   "metadata": {},
   "outputs": [],
   "source": [
    "cipher_text, shared_secret = kem.encaps(public_key)\n"
   ]
  },
  {
   "cell_type": "markdown",
   "id": "04387dfd",
   "metadata": {},
   "source": [
    "5. Alice decrypts cipher she receives from Bob to extract shared secret."
   ]
  },
  {
   "cell_type": "code",
   "execution_count": 45,
   "id": "41753363",
   "metadata": {},
   "outputs": [],
   "source": [
    "\n",
    "shared_secret_copy = kem.decaps(secret_key, cipher_text)"
   ]
  },
  {
   "cell_type": "markdown",
   "id": "3f6c7162",
   "metadata": {},
   "source": [
    "\n",
    "6. Bob encrypts the message to be sent using the shared_secret."
   ]
  },
  {
   "cell_type": "code",
   "execution_count": 46,
   "id": "75404051",
   "metadata": {},
   "outputs": [
    {
     "name": "stdout",
     "output_type": "stream",
     "text": [
      "itr_count: 0\n",
      "dwt2d: 0.009071625\n",
      "dwt2d: 0.002481209\n",
      "sha256_with_key: 0.000349417\n",
      "sha512_with_key: 0.001491584\n",
      "xor_with_sha_key: 0.002172875\n",
      "xor_with_sha_key: 0.008268792\n",
      "aes_encrypt: 0.002706125\n",
      "_se_encrypt: 0.032332209\n",
      "itr_count: 1\n",
      "dwt2d: 0.006889167\n",
      "dwt2d: 0.002097375\n",
      "sha256_with_key: 0.000308041\n",
      "sha512_with_key: 0.001253792\n",
      "xor_with_sha_key: 0.001767625\n",
      "xor_with_sha_key: 0.007116500\n",
      "aes_encrypt: 0.002516083\n",
      "_se_encrypt: 0.027194459\n",
      "encrypt: 0.065599417\n"
     ]
    }
   ],
   "source": [
    "from selective_encryption import encrypt\n",
    "from utils import time_it\n",
    "\n",
    "encrypt(file_path='data/files/landscape.png',\n",
    "           sha_key_str=sha_key_str, \n",
    "           buffer=buffer_size,\n",
    "           aes_key=shared_secret)"
   ]
  },
  {
   "cell_type": "markdown",
   "id": "a800d9aa",
   "metadata": {},
   "source": [
    "7. Alice decrypts the message using shared_secret_copy."
   ]
  },
  {
   "cell_type": "code",
   "execution_count": 47,
   "id": "c16e3927",
   "metadata": {},
   "outputs": [
    {
     "name": "stdout",
     "output_type": "stream",
     "text": [
      "aes_decrypt: 0.005290458\n",
      "sha256_with_key: 0.000893792\n",
      "xor_with_sha_key: 0.007387000\n",
      "sha512_with_key: 0.002393250\n",
      "xor_with_sha_key: 0.014319833\n",
      "idwt2d: 0.003614459\n",
      "idwt2d: 0.010858334\n",
      "aes_decrypt: 0.002106791\n",
      "sha256_with_key: 0.000264500\n",
      "xor_with_sha_key: 0.001763625\n",
      "sha512_with_key: 0.001162958\n",
      "xor_with_sha_key: 0.006826834\n",
      "idwt2d: 0.003081875\n",
      "idwt2d: 0.011058750\n",
      "decrypt: 2.373859500\n"
     ]
    }
   ],
   "source": [
    "from selective_encryption import decrypt\n",
    "\n",
    "decrypt(file_PF= 'data/files/enc/landscape.png_PF.npy',\n",
    "           file_PPF_1= 'data/files/enc/landscape.png_PPF_1.npy',\n",
    "           file_PPF_2= 'data/files/enc/landscape.png_PPF_2.npy',\n",
    "           buffer=buffer_size,\n",
    "           output_file_path='data/files/dec/landscape.png',\n",
    "           sha_key_str=sha_key_str, \n",
    "           aes_key=shared_secret_copy)"
   ]
  }
 ],
 "metadata": {
  "kernelspec": {
   "display_name": "Python 3",
   "language": "python",
   "name": "python3"
  },
  "language_info": {
   "codemirror_mode": {
    "name": "ipython",
    "version": 3
   },
   "file_extension": ".py",
   "mimetype": "text/x-python",
   "name": "python",
   "nbconvert_exporter": "python",
   "pygments_lexer": "ipython3",
   "version": "3.12.5"
  }
 },
 "nbformat": 4,
 "nbformat_minor": 5
}
