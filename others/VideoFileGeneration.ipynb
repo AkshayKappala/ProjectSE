{
 "cells": [
  {
   "cell_type": "code",
   "execution_count": null,
   "metadata": {},
   "outputs": [],
   "source": [
    "import cv2\n",
    "import numpy as np\n",
    "import os\n",
    "\n",
    "# Parameters\n",
    "resolution = (3840, 2160)  # 4K resolution (width, height)\n",
    "fps = 60\n",
    "duration = 10 * 60  # 10 minutes in seconds\n",
    "output_file = 'data/videos/gen/white_4k_60fps_10min.mp4'\n",
    "\n",
    "# Create output directory if it doesn't exist\n",
    "os.makedirs(os.path.dirname(output_file), exist_ok=True)\n",
    "\n",
    "# Define the codec and create VideoWriter object\n",
    "fourcc = cv2.VideoWriter_fourcc(*'mp4v')  # Codec for .mp4\n",
    "out = cv2.VideoWriter(output_file, fourcc, fps, resolution)\n",
    "\n",
    "# Generate and write white frames\n",
    "frame = np.ones((resolution[1], resolution[0], 3), dtype=np.uint8) * 255  # White frame\n",
    "num_frames = fps * duration\n",
    "\n",
    "print(f\"Generating video with {num_frames} frames...\")\n",
    "\n",
    "for _ in range(num_frames):\n",
    "    out.write(frame)\n",
    "\n",
    "# Release the VideoWriter object\n",
    "out.release()\n",
    "print(f\"Video saved as {output_file}\")\n"
   ]
  }
 ],
 "metadata": {
  "kernelspec": {
   "display_name": ".venv",
   "language": "python",
   "name": "python3"
  },
  "language_info": {
   "codemirror_mode": {
    "name": "ipython",
    "version": 3
   },
   "file_extension": ".py",
   "mimetype": "text/x-python",
   "name": "python",
   "nbconvert_exporter": "python",
   "pygments_lexer": "ipython3",
   "version": "3.12.5"
  }
 },
 "nbformat": 4,
 "nbformat_minor": 2
}
